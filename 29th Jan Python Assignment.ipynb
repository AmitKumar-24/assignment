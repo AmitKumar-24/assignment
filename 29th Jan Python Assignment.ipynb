{
 "cells": [
  {
   "cell_type": "code",
   "execution_count": 4,
   "id": "bf2e0e27-0068-4503-95c2-bde33ce6ee8d",
   "metadata": {},
   "outputs": [],
   "source": [
    "# 1. Who developed Python Programming Language? \n",
    "# ans -> Python programming language was developed by Guido van Rossum"
   ]
  },
  {
   "cell_type": "code",
   "execution_count": 5,
   "id": "63e239d9-23e1-4e53-bf6d-2d5334feebb4",
   "metadata": {},
   "outputs": [],
   "source": [
    "# 2. Which type of Programming does Python support? \n",
    "# ans -> Python supports Object-oriented programming, structured programming and functional programming."
   ]
  },
  {
   "cell_type": "code",
   "execution_count": 6,
   "id": "c8c10bb3-188e-424b-8f92-70023653af4a",
   "metadata": {},
   "outputs": [],
   "source": [
    "# 3. Is Python case sensitive when dealing with identifiers? \n",
    "# ans-> yes, python is a case-sensitive language. it treats uppercase and lowercase characters differently. \n",
    "# this applies identifiers too."
   ]
  },
  {
   "cell_type": "code",
   "execution_count": 7,
   "id": "c044452b-e4d0-4cc6-ab0f-01ab6ac3f9bb",
   "metadata": {},
   "outputs": [],
   "source": [
    "# 4. What is the correct extension of the Python file? \n",
    "# ans-> .py"
   ]
  },
  {
   "cell_type": "code",
   "execution_count": 8,
   "id": "df2c9dee-de64-42f3-ae68-d733e146c26c",
   "metadata": {},
   "outputs": [],
   "source": [
    "# 5. Is Python code compiled or interpreted? \n",
    "# ans-> Python is an interpreted language, which means the source code of a Python program is converted into bytecode\n",
    "# and then executed by the Python virtual machine."
   ]
  },
  {
   "cell_type": "code",
   "execution_count": 9,
   "id": "396c93d9-9364-4366-ac20-09264b2a6e46",
   "metadata": {},
   "outputs": [
    {
     "name": "stdout",
     "output_type": "stream",
     "text": [
      "Correct Name!!\n"
     ]
    }
   ],
   "source": [
    "# 6. Name a few blocks of code used to define in Python language? \n",
    "# ans-> Indentation is used to define a block of code in python. ex->\n",
    "name = 'Amit'\n",
    "    \n",
    "if name == 'Amit':\n",
    "    print('Correct Name!!')\n",
    "else:\n",
    "\tprint('InCorrect Name:(')"
   ]
  },
  {
   "cell_type": "code",
   "execution_count": 10,
   "id": "8c16564f-915f-438d-a244-1ef32736ffc7",
   "metadata": {},
   "outputs": [],
   "source": [
    "# 7. State a character used to give single-line comments in Python? \n",
    "# ans-> Hash character(#) is used to single-line comments in Python."
   ]
  },
  {
   "cell_type": "code",
   "execution_count": 16,
   "id": "de4d3b4f-7b39-4a57-929b-d47a19b0b4fb",
   "metadata": {},
   "outputs": [],
   "source": [
    "# 8. Mention functions which can help us to find the version of python that we are currently working on?\n",
    "# ans->1. Using python_version() function.\n",
    "# 2.Using sys. version method. \n",
    "# 3. Using Python -V command."
   ]
  },
  {
   "cell_type": "code",
   "execution_count": 17,
   "id": "42762236-4bb6-4dff-bffc-b4cea7b0b13b",
   "metadata": {},
   "outputs": [],
   "source": [
    "# 9. Python supports the creation of anonymous functions at runtime, using a construct called\n",
    "# ans-> Python supports the creation of anonymous functions (i.e. functions that are not bound to a name) \n",
    "# at runtime, using a construct called lambda."
   ]
  },
  {
   "cell_type": "code",
   "execution_count": 18,
   "id": "36a1ca5e-4370-46ce-9ee1-135ac6916d3c",
   "metadata": {},
   "outputs": [],
   "source": [
    "# 10. What does pip stand for python? \n",
    "# ans-> PIP stand for “Preferred Installer Program” or PIP Installs Packages."
   ]
  },
  {
   "cell_type": "code",
   "execution_count": 2,
   "id": "bc665f12-5aec-4e3c-9d80-6252daef9c33",
   "metadata": {},
   "outputs": [],
   "source": [
    "# 11. Mention a few built-in functions in python? \n",
    "# ans-> len() function\n",
    "# sum() function\n",
    "# print() function\n",
    "# type() function\n",
    "# input() function\n",
    "# range() function"
   ]
  },
  {
   "cell_type": "code",
   "execution_count": 3,
   "id": "c761d7f7-fa09-40d2-bbea-cfe56e8378f1",
   "metadata": {},
   "outputs": [],
   "source": [
    "# 12. What is the maximum possible length of an identifier in Python? \n",
    "# ans-> An identifier can have a maximum length of 79 characters in Python."
   ]
  },
  {
   "cell_type": "code",
   "execution_count": 4,
   "id": "45cd11f2-d60b-47d1-a98b-e06a233e528e",
   "metadata": {},
   "outputs": [],
   "source": [
    "# 13. What are the benefits of using Python? \n",
    "# ans-> Large developer community.\n",
    "# Python is one of the most popular programming languages in the world.\n",
    "# Extensive libraries. Python offers a wide range of libraries that can be used across various applications.\n",
    "# Write less, do more. Python has very concise syntax.\n",
    "# Wide range of use cases."
   ]
  },
  {
   "cell_type": "code",
   "execution_count": 5,
   "id": "0a87f93f-8800-4e14-877b-f91eda05358b",
   "metadata": {},
   "outputs": [],
   "source": [
    "# 14. How is memory managed in Python? \n",
    "# ans-> Memory management in Python involves a private heap containing all Python objects and data structures.\n",
    "# The management of this private heap is ensured internally by the Python memory manager."
   ]
  },
  {
   "cell_type": "code",
   "execution_count": 6,
   "id": "53bf8bb8-f0b3-49b9-b087-ea7c64e3794b",
   "metadata": {},
   "outputs": [],
   "source": [
    "# 15. How to install Python on Windows and set path variables? \n",
    "# ans->1.Open a browser go to the Python website and download the Windows installer.\n",
    "# 2. Double click on the downloaded file and install Python for all users, and ensure that Python is added to your path. Click on Install now to begin.\n",
    "# 3. After the installation is complete, click Disable path length limit and then Close.\n",
    "# 4. Click Close to end the installation.\n",
    "\n",
    "# set path variables in python\n",
    "# Right-clicking This PC and going to Properties.\n",
    "# Clicking on the Advanced system settings in the menu on the left.\n",
    "# Clicking on the Environment Variables button on the bottom right.\n",
    "# In the System variables section, selecting the Path variable and clicking on Edit.\n",
    "# The next screen will show all the directories that are currently a part of the PATH variable.\n",
    "# Clicking on New and entering Python’s install directory."
   ]
  },
  {
   "cell_type": "code",
   "execution_count": null,
   "id": "5416fc06-9d59-46e5-8ae3-4420022a747d",
   "metadata": {},
   "outputs": [],
   "source": [
    "# 16. Is indentation required in python?\n",
    "# ans -> Indentation refers to the spaces at the beginning of a code line. \n",
    "# Where in other programming languages the indentation in code is for readability only, the indentation in Python is very important.\n",
    "# Python uses indentation to indicate a block of code."
   ]
  }
 ],
 "metadata": {
  "kernelspec": {
   "display_name": "Python 3 (ipykernel)",
   "language": "python",
   "name": "python3"
  },
  "language_info": {
   "codemirror_mode": {
    "name": "ipython",
    "version": 3
   },
   "file_extension": ".py",
   "mimetype": "text/x-python",
   "name": "python",
   "nbconvert_exporter": "python",
   "pygments_lexer": "ipython3",
   "version": "3.10.8"
  }
 },
 "nbformat": 4,
 "nbformat_minor": 5
}
